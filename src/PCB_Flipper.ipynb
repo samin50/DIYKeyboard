{
 "cells": [
  {
   "cell_type": "code",
   "execution_count": 3,
   "metadata": {},
   "outputs": [
    {
     "name": "stdout",
     "output_type": "stream",
     "text": [
      "File exists\n"
     ]
    }
   ],
   "source": [
    "import re\n",
    "import os\n",
    "\n",
    "filePath = \".\\\\..\\\\design\\\\leftside\\\\\"\n",
    "fileName = \"leftside.kicad_pcb\"\n",
    "newFileName = \"leftside_new.kicad_pcb\"\n",
    "if os.path.exists(filePath + fileName):\n",
    "    print(\"File exists\")"
   ]
  },
  {
   "cell_type": "code",
   "execution_count": 4,
   "metadata": {},
   "outputs": [
    {
     "name": "stdout",
     "output_type": "stream",
     "text": [
      "There are 227 matches\n"
     ]
    }
   ],
   "source": [
    "pattern = re.compile(r'uuid.+\\n\\s+\\(at ([0-9\\.]+) ([0-9\\.]+)')\n",
    "file = open(filePath + fileName, 'r')\n",
    "fileText = file.read()\n",
    "file.close()\n",
    "matches = pattern.findall(fileText)\n",
    "print(f\"There are {len(matches)} matches\")"
   ]
  },
  {
   "cell_type": "code",
   "execution_count": 5,
   "metadata": {},
   "outputs": [
    {
     "name": "stdout",
     "output_type": "stream",
     "text": [
      "Largest x is 380.760969\n"
     ]
    }
   ],
   "source": [
    "# Mirror footprints\n",
    "# Find largest x\n",
    "maxX = 0\n",
    "for match in matches:\n",
    "    x = float(match[0])\n",
    "    if x > maxX:\n",
    "        maxX = x\n",
    "print(f\"Largest x is {maxX}\")\n",
    "# subtract largest x from all x and invert\n",
    "newFileText = fileText\n",
    "for match in matches:\n",
    "    x = float(match[0])\n",
    "    y = float(match[1])\n",
    "    newX = maxX - x\n",
    "    newFileText = newFileText.replace(f\"(at {x} {y}\", f\"(at {newX} {y}\")\n"
   ]
  },
  {
   "cell_type": "code",
   "execution_count": 6,
   "metadata": {},
   "outputs": [
    {
     "name": "stdout",
     "output_type": "stream",
     "text": [
      "There are 7 edge cut lines\n"
     ]
    }
   ],
   "source": [
    "# Mirror edge cuts\n",
    "edgecutLine = re.compile(r'gr_line\\n\\s+\\(start ([0-9\\.]+) ([0-9\\.]+)\\)\\n\\s+\\(end ([0-9\\.]+) ([0-9\\.]+)')\n",
    "matches = edgecutLine.findall(newFileText)\n",
    "print(f\"There are {len(matches)} edge cut lines\")\n",
    "for match in matches:\n",
    "    x1 = float(match[0])\n",
    "    y1 = float(match[1])\n",
    "    x2 = float(match[2])\n",
    "    y2 = float(match[3])\n",
    "    newX1 = maxX - x1\n",
    "    newX2 = maxX - x2\n",
    "    newFileText = newFileText.replace(f\"(start {x1} {y1}\", f\"(start {newX1} {y1}\")\n",
    "    newFileText = newFileText.replace(f\"(end {x2} {y2}\", f\"(end {newX2} {y2}\")"
   ]
  },
  {
   "cell_type": "code",
   "execution_count": 7,
   "metadata": {},
   "outputs": [
    {
     "name": "stdout",
     "output_type": "stream",
     "text": [
      "There are 1 circle cut lines\n"
     ]
    }
   ],
   "source": [
    "# Mirror circles\n",
    "circlecutlines = re.compile(r'gr_circle\\n\\s+\\(center ([0-9\\.]+) ([0-9\\.]+)\\)\\n\\s+\\(end ([0-9\\.]+) ([0-9\\.]+)')\n",
    "matches = circlecutlines.findall(newFileText)\n",
    "print(f\"There are {len(matches)} circle cut lines\")\n",
    "for match in matches:\n",
    "    x1 = float(match[0])\n",
    "    y1 = float(match[1])\n",
    "    x2 = float(match[2])\n",
    "    y2 = float(match[3])\n",
    "    newX1 = maxX - x1\n",
    "    newX2 = maxX - x2\n",
    "    newFileText = newFileText.replace(f\"(center {x1} {y1}\", f\"(center {newX1} {y1}\")\n",
    "    newFileText = newFileText.replace(f\"(end {x2} {y2}\", f\"(end {newX2} {y2}\")\n"
   ]
  },
  {
   "cell_type": "code",
   "execution_count": 8,
   "metadata": {},
   "outputs": [
    {
     "name": "stdout",
     "output_type": "stream",
     "text": [
      "There are 0 vias\n"
     ]
    }
   ],
   "source": [
    "# Mirror vias\n",
    "via = re.compile(r'via\\n\\s+\\(at ([0-9\\.]+) ([0-9\\.]+)')\n",
    "matches = via.findall(newFileText)\n",
    "print(f\"There are {len(matches)} vias\")\n",
    "for match in matches:\n",
    "    x = float(match[0])\n",
    "    y = float(match[1])\n",
    "    newX = maxX - x\n",
    "    newFileText = newFileText.replace(f\"(at {x} {y}\", f\"(at {newX} {y}\")"
   ]
  },
  {
   "cell_type": "code",
   "execution_count": 9,
   "metadata": {},
   "outputs": [
    {
     "name": "stdout",
     "output_type": "stream",
     "text": [
      "There are 11 zones\n"
     ]
    }
   ],
   "source": [
    "# mirror zones\n",
    "zone = re.compile(r'\\(polygon\\n\\s+\\(pts\\n\\s+((?:\\(xy [0-9\\.]+ [0-9\\.]+\\)\\s*)+)')\n",
    "matches = zone.findall(newFileText)\n",
    "print(f\"There are {len(matches)} zones\")\n",
    "for match in matches:\n",
    "    points = re.findall(r'\\(xy ([0-9\\.]+) ([0-9\\.]+)\\)', match)\n",
    "    newPoints = []\n",
    "    for point in points:\n",
    "        x = float(point[0])\n",
    "        y = float(point[1])\n",
    "        newX = maxX - x\n",
    "        newPoints.append(f\"(xy {newX} {y})\")\n",
    "    newFileText = newFileText.replace(match, \" \".join(newPoints))"
   ]
  },
  {
   "cell_type": "code",
   "execution_count": 10,
   "metadata": {},
   "outputs": [
    {
     "ename": "",
     "evalue": "",
     "output_type": "error",
     "traceback": [
      "\u001b[1;31mThe Kernel crashed while executing code in the current cell or a previous cell. \n",
      "\u001b[1;31mPlease review the code in the cell(s) to identify a possible cause of the failure. \n",
      "\u001b[1;31mClick <a href='https://aka.ms/vscodeJupyterKernelCrash'>here</a> for more info. \n",
      "\u001b[1;31mView Jupyter <a href='command:jupyter.viewOutput'>log</a> for further details."
     ]
    }
   ],
   "source": [
    "file = open(filePath + newFileName, 'w')\n",
    "file.write(newFileText)\n",
    "file.close()"
   ]
  }
 ],
 "metadata": {
  "kernelspec": {
   "display_name": "base",
   "language": "python",
   "name": "python3"
  },
  "language_info": {
   "codemirror_mode": {
    "name": "ipython",
    "version": 3
   },
   "file_extension": ".py",
   "mimetype": "text/x-python",
   "name": "python",
   "nbconvert_exporter": "python",
   "pygments_lexer": "ipython3",
   "version": "3.12.4"
  }
 },
 "nbformat": 4,
 "nbformat_minor": 2
}
